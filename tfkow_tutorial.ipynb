{
  "nbformat": 4,
  "nbformat_minor": 0,
  "metadata": {
    "colab": {
      "name": "tfkow_tutorial.ipynb",
      "private_outputs": true,
      "provenance": [],
      "authorship_tag": "ABX9TyPTe9fH1Kk6p9q7mgb5su2Q",
      "include_colab_link": true
    },
    "kernelspec": {
      "name": "python3",
      "display_name": "Python 3"
    },
    "language_info": {
      "name": "python"
    },
    "accelerator": "GPU"
  },
  "cells": [
    {
      "cell_type": "markdown",
      "metadata": {
        "id": "view-in-github",
        "colab_type": "text"
      },
      "source": [
        "<a href=\"https://colab.research.google.com/github/snad0/ML/blob/master/tfkow_tutorial.ipynb\" target=\"_parent\"><img src=\"https://colab.research.google.com/assets/colab-badge.svg\" alt=\"Open In Colab\"/></a>"
      ]
    },
    {
      "cell_type": "code",
      "source": [
        ""
      ],
      "metadata": {
        "id": "cGoKYAuieSoq"
      },
      "execution_count": null,
      "outputs": []
    },
    {
      "cell_type": "code",
      "execution_count": null,
      "metadata": {
        "id": "3ao1ennpJESU"
      },
      "outputs": [],
      "source": [
        "import tensorflow as tf\n"
      ]
    },
    {
      "cell_type": "code",
      "source": [
        "tf.__version__"
      ],
      "metadata": {
        "id": "ACJuFYA4KBUu"
      },
      "execution_count": null,
      "outputs": []
    },
    {
      "cell_type": "code",
      "source": [
        "# hello = tf.constant('hello world')\n",
        "print(tf.constant('hello world'))"
      ],
      "metadata": {
        "id": "1eRxXr8bKEIL"
      },
      "execution_count": null,
      "outputs": []
    },
    {
      "cell_type": "code",
      "source": [
        "hello = tf.constant('hello world', shape=[3,2], name='my_tensor')\n",
        "print(hello)"
      ],
      "metadata": {
        "id": "bZEXxOKWK4Po"
      },
      "execution_count": null,
      "outputs": []
    },
    {
      "cell_type": "code",
      "source": [
        " a= tf.constant([1.2])\n",
        " b= tf.constant([3.4])\n",
        " c=tf.add(a,b)\n",
        " print(c)"
      ],
      "metadata": {
        "id": "6k_uE1OePhsl"
      },
      "execution_count": null,
      "outputs": []
    },
    {
      "cell_type": "code",
      "source": [
        ""
      ],
      "metadata": {
        "id": "tUyccFsOYFZl"
      },
      "execution_count": null,
      "outputs": []
    },
    {
      "cell_type": "code",
      "source": [
        ""
      ],
      "metadata": {
        "id": "W-fkPqfBZi_B"
      },
      "execution_count": null,
      "outputs": []
    }
  ]
}