{
  "nbformat": 4,
  "nbformat_minor": 0,
  "metadata": {
    "colab": {
      "name": "Classification_deep_learn.ipynb",
      "provenance": [],
      "authorship_tag": "ABX9TyNtrsmWpNTNyuxS1rg9CIYr",
      "include_colab_link": true
    },
    "kernelspec": {
      "name": "python3",
      "display_name": "Python 3"
    },
    "language_info": {
      "name": "python"
    }
  },
  "cells": [
    {
      "cell_type": "markdown",
      "metadata": {
        "id": "view-in-github",
        "colab_type": "text"
      },
      "source": [
        "<a href=\"https://colab.research.google.com/github/snad0/ML/blob/master/Classification_deep_learn.ipynb\" target=\"_parent\"><img src=\"https://colab.research.google.com/assets/colab-badge.svg\" alt=\"Open In Colab\"/></a>"
      ]
    },
    {
      "cell_type": "code",
      "execution_count": 4,
      "metadata": {
        "id": "RjNZEQN-LheQ"
      },
      "outputs": [],
      "source": [
        "import tensorflow as tf\n",
        "tf.random.set_seed(42) #make randomness fixed"
      ]
    },
    {
      "cell_type": "code",
      "source": [
        "(train_x, train_y),(test_x,test_y) = tf.keras.datasets.mnist.load_data()"
      ],
      "metadata": {
        "id": "tkVRfb6RxfjB"
      },
      "execution_count": 14,
      "outputs": []
    },
    {
      "cell_type": "code",
      "source": [
        "train_x.shape"
      ],
      "metadata": {
        "colab": {
          "base_uri": "https://localhost:8080/"
        },
        "id": "0jedpG9hyU4K",
        "outputId": "a2ded013-a7b2-4273-f3fa-a30d987a25f1"
      },
      "execution_count": 6,
      "outputs": [
        {
          "output_type": "execute_result",
          "data": {
            "text/plain": [
              "(60000, 28, 28)"
            ]
          },
          "metadata": {},
          "execution_count": 6
        }
      ]
    },
    {
      "cell_type": "code",
      "source": [
        "test_x.shape"
      ],
      "metadata": {
        "colab": {
          "base_uri": "https://localhost:8080/"
        },
        "id": "whcw8oaEyYfz",
        "outputId": "80339e48-1355-41e7-bad8-5793c1cf546b"
      },
      "execution_count": 15,
      "outputs": [
        {
          "output_type": "execute_result",
          "data": {
            "text/plain": [
              "(10000, 28, 28)"
            ]
          },
          "metadata": {},
          "execution_count": 15
        }
      ]
    },
    {
      "cell_type": "code",
      "source": [
        "test_y[:5]"
      ],
      "metadata": {
        "colab": {
          "base_uri": "https://localhost:8080/"
        },
        "id": "ubeO8h4ly5sL",
        "outputId": "b7ea2781-8324-4aef-ae12-300f6af5cbbe"
      },
      "execution_count": 16,
      "outputs": [
        {
          "output_type": "execute_result",
          "data": {
            "text/plain": [
              "array([7, 2, 1, 0, 4], dtype=uint8)"
            ]
          },
          "metadata": {},
          "execution_count": 16
        }
      ]
    },
    {
      "cell_type": "markdown",
      "source": [
        "**Convert Label into multiple value(10 values here)**"
      ],
      "metadata": {
        "id": "Z0VewS6iz-LW"
      }
    },
    {
      "cell_type": "code",
      "source": [
        "train_y = tf.keras.utils.to_categorical(train_y, num_classes=10)\n",
        "test_y = tf.keras.utils.to_categorical(test_y, num_classes=10)"
      ],
      "metadata": {
        "id": "p_DZbFDc0QHA"
      },
      "execution_count": 17,
      "outputs": []
    },
    {
      "cell_type": "code",
      "source": [
        "test_y[:1]"
      ],
      "metadata": {
        "colab": {
          "base_uri": "https://localhost:8080/"
        },
        "id": "5JX_O5SG0sIM",
        "outputId": "077b1e38-28b2-487b-afbd-c82b196defc5"
      },
      "execution_count": 20,
      "outputs": [
        {
          "output_type": "execute_result",
          "data": {
            "text/plain": [
              "array([[0., 0., 0., 0., 0., 0., 0., 1., 0., 0.]], dtype=float32)"
            ]
          },
          "metadata": {},
          "execution_count": 20
        }
      ]
    },
    {
      "cell_type": "code",
      "source": [
        ""
      ],
      "metadata": {
        "id": "tm9QuYiq0_4b"
      },
      "execution_count": null,
      "outputs": []
    },
    {
      "cell_type": "markdown",
      "source": [
        "**Building the model**"
      ],
      "metadata": {
        "id": "-lCxSTkg1pM6"
      }
    },
    {
      "cell_type": "code",
      "source": [
        "#Initializing sequential model\n",
        "model= tf.keras.models.Sequential()\n",
        "\n",
        "#reshaping data\n",
        "model.add(tf.keras.layers.Reshape((784,), input_shape=(28,28)))\n",
        "\n",
        "#Normaliuzing the data\n",
        "model.add(tf.keras.layers.BatchNormalization())\n",
        "\n",
        "#Add Dense Layer which provides 10  op after appluing softmax\n",
        "model.add(tf.keras.layers.Dense(10, activation='softmax'))\n",
        "\n",
        "#Compile the model\n",
        "model.compile(optimizer='sgd', loss='categorical_crossentropy', \n",
        "              metrics=['accuracy'])"
      ],
      "metadata": {
        "id": "j-0ERUTN1sKz"
      },
      "execution_count": 27,
      "outputs": []
    },
    {
      "cell_type": "code",
      "source": [
        "model.fit(train_x,train_y, validation_data=(test_x,test_y), epochs=100\n",
        "          , batch_size=train_x.shape[0])\n"
      ],
      "metadata": {
        "colab": {
          "base_uri": "https://localhost:8080/"
        },
        "id": "vQWtRjej3K2m",
        "outputId": "a16cccc2-eaf6-4e3b-cf92-36ff0759c11f"
      },
      "execution_count": 28,
      "outputs": [
        {
          "output_type": "stream",
          "name": "stdout",
          "text": [
            "Epoch 1/100\n",
            "1/1 [==============================] - 2s 2s/step - loss: 2.8188 - accuracy: 0.1011 - val_loss: 16.7438 - val_accuracy: 0.1374\n",
            "Epoch 2/100\n",
            "1/1 [==============================] - 1s 805ms/step - loss: 2.7279 - accuracy: 0.1169 - val_loss: 11.4618 - val_accuracy: 0.1477\n",
            "Epoch 3/100\n",
            "1/1 [==============================] - 1s 706ms/step - loss: 2.6409 - accuracy: 0.1370 - val_loss: 8.9942 - val_accuracy: 0.1611\n",
            "Epoch 4/100\n",
            "1/1 [==============================] - 1s 713ms/step - loss: 2.5578 - accuracy: 0.1598 - val_loss: 7.4734 - val_accuracy: 0.1730\n",
            "Epoch 5/100\n",
            "1/1 [==============================] - 1s 701ms/step - loss: 2.4785 - accuracy: 0.1861 - val_loss: 6.4128 - val_accuracy: 0.1857\n",
            "Epoch 6/100\n",
            "1/1 [==============================] - 1s 721ms/step - loss: 2.4030 - accuracy: 0.2113 - val_loss: 5.6203 - val_accuracy: 0.2003\n",
            "Epoch 7/100\n",
            "1/1 [==============================] - 1s 725ms/step - loss: 2.3311 - accuracy: 0.2376 - val_loss: 5.0018 - val_accuracy: 0.2178\n",
            "Epoch 8/100\n",
            "1/1 [==============================] - 1s 721ms/step - loss: 2.2629 - accuracy: 0.2610 - val_loss: 4.5043 - val_accuracy: 0.2352\n",
            "Epoch 9/100\n",
            "1/1 [==============================] - 1s 720ms/step - loss: 2.1981 - accuracy: 0.2846 - val_loss: 4.0952 - val_accuracy: 0.2512\n",
            "Epoch 10/100\n",
            "1/1 [==============================] - 1s 732ms/step - loss: 2.1367 - accuracy: 0.3062 - val_loss: 3.7531 - val_accuracy: 0.2670\n",
            "Epoch 11/100\n",
            "1/1 [==============================] - 1s 715ms/step - loss: 2.0785 - accuracy: 0.3273 - val_loss: 3.4632 - val_accuracy: 0.2848\n",
            "Epoch 12/100\n",
            "1/1 [==============================] - 1s 739ms/step - loss: 2.0233 - accuracy: 0.3472 - val_loss: 3.2151 - val_accuracy: 0.3031\n",
            "Epoch 13/100\n",
            "1/1 [==============================] - 1s 720ms/step - loss: 1.9711 - accuracy: 0.3661 - val_loss: 3.0005 - val_accuracy: 0.3204\n",
            "Epoch 14/100\n",
            "1/1 [==============================] - 1s 747ms/step - loss: 1.9215 - accuracy: 0.3845 - val_loss: 2.8135 - val_accuracy: 0.3369\n",
            "Epoch 15/100\n",
            "1/1 [==============================] - 1s 760ms/step - loss: 1.8746 - accuracy: 0.4019 - val_loss: 2.6494 - val_accuracy: 0.3527\n",
            "Epoch 16/100\n",
            "1/1 [==============================] - 1s 720ms/step - loss: 1.8300 - accuracy: 0.4180 - val_loss: 2.5044 - val_accuracy: 0.3692\n",
            "Epoch 17/100\n",
            "1/1 [==============================] - 1s 739ms/step - loss: 1.7877 - accuracy: 0.4340 - val_loss: 2.3755 - val_accuracy: 0.3882\n",
            "Epoch 18/100\n",
            "1/1 [==============================] - 1s 748ms/step - loss: 1.7476 - accuracy: 0.4495 - val_loss: 2.2604 - val_accuracy: 0.4073\n",
            "Epoch 19/100\n",
            "1/1 [==============================] - 1s 730ms/step - loss: 1.7094 - accuracy: 0.4647 - val_loss: 2.1571 - val_accuracy: 0.4263\n",
            "Epoch 20/100\n",
            "1/1 [==============================] - 1s 717ms/step - loss: 1.6732 - accuracy: 0.4790 - val_loss: 2.0639 - val_accuracy: 0.4426\n",
            "Epoch 21/100\n",
            "1/1 [==============================] - 1s 724ms/step - loss: 1.6387 - accuracy: 0.4927 - val_loss: 1.9796 - val_accuracy: 0.4590\n",
            "Epoch 22/100\n",
            "1/1 [==============================] - 1s 722ms/step - loss: 1.6058 - accuracy: 0.5058 - val_loss: 1.9031 - val_accuracy: 0.4734\n",
            "Epoch 23/100\n",
            "1/1 [==============================] - 1s 732ms/step - loss: 1.5746 - accuracy: 0.5179 - val_loss: 1.8333 - val_accuracy: 0.4890\n",
            "Epoch 24/100\n",
            "1/1 [==============================] - 1s 753ms/step - loss: 1.5447 - accuracy: 0.5283 - val_loss: 1.7694 - val_accuracy: 0.5024\n",
            "Epoch 25/100\n",
            "1/1 [==============================] - 1s 683ms/step - loss: 1.5163 - accuracy: 0.5403 - val_loss: 1.7108 - val_accuracy: 0.5157\n",
            "Epoch 26/100\n",
            "1/1 [==============================] - 1s 717ms/step - loss: 1.4892 - accuracy: 0.5506 - val_loss: 1.6569 - val_accuracy: 0.5288\n",
            "Epoch 27/100\n",
            "1/1 [==============================] - 1s 705ms/step - loss: 1.4632 - accuracy: 0.5604 - val_loss: 1.6071 - val_accuracy: 0.5405\n",
            "Epoch 28/100\n",
            "1/1 [==============================] - 1s 725ms/step - loss: 1.4385 - accuracy: 0.5689 - val_loss: 1.5611 - val_accuracy: 0.5506\n",
            "Epoch 29/100\n",
            "1/1 [==============================] - 1s 699ms/step - loss: 1.4148 - accuracy: 0.5777 - val_loss: 1.5184 - val_accuracy: 0.5606\n",
            "Epoch 30/100\n",
            "1/1 [==============================] - 1s 716ms/step - loss: 1.3921 - accuracy: 0.5861 - val_loss: 1.4787 - val_accuracy: 0.5702\n",
            "Epoch 31/100\n",
            "1/1 [==============================] - 1s 720ms/step - loss: 1.3704 - accuracy: 0.5941 - val_loss: 1.4418 - val_accuracy: 0.5779\n",
            "Epoch 32/100\n",
            "1/1 [==============================] - 1s 708ms/step - loss: 1.3496 - accuracy: 0.6015 - val_loss: 1.4073 - val_accuracy: 0.5866\n",
            "Epoch 33/100\n",
            "1/1 [==============================] - 1s 714ms/step - loss: 1.3297 - accuracy: 0.6086 - val_loss: 1.3750 - val_accuracy: 0.5948\n",
            "Epoch 34/100\n",
            "1/1 [==============================] - 1s 719ms/step - loss: 1.3105 - accuracy: 0.6155 - val_loss: 1.3447 - val_accuracy: 0.6026\n",
            "Epoch 35/100\n",
            "1/1 [==============================] - 1s 712ms/step - loss: 1.2921 - accuracy: 0.6222 - val_loss: 1.3163 - val_accuracy: 0.6093\n",
            "Epoch 36/100\n",
            "1/1 [==============================] - 1s 716ms/step - loss: 1.2745 - accuracy: 0.6290 - val_loss: 1.2895 - val_accuracy: 0.6154\n",
            "Epoch 37/100\n",
            "1/1 [==============================] - 1s 725ms/step - loss: 1.2575 - accuracy: 0.6346 - val_loss: 1.2643 - val_accuracy: 0.6231\n",
            "Epoch 38/100\n",
            "1/1 [==============================] - 1s 702ms/step - loss: 1.2412 - accuracy: 0.6400 - val_loss: 1.2405 - val_accuracy: 0.6288\n",
            "Epoch 39/100\n",
            "1/1 [==============================] - 1s 707ms/step - loss: 1.2254 - accuracy: 0.6456 - val_loss: 1.2180 - val_accuracy: 0.6355\n",
            "Epoch 40/100\n",
            "1/1 [==============================] - 1s 716ms/step - loss: 1.2103 - accuracy: 0.6507 - val_loss: 1.1967 - val_accuracy: 0.6418\n",
            "Epoch 41/100\n",
            "1/1 [==============================] - 1s 716ms/step - loss: 1.1956 - accuracy: 0.6558 - val_loss: 1.1765 - val_accuracy: 0.6469\n",
            "Epoch 42/100\n",
            "1/1 [==============================] - 1s 724ms/step - loss: 1.1815 - accuracy: 0.6608 - val_loss: 1.1573 - val_accuracy: 0.6520\n",
            "Epoch 43/100\n",
            "1/1 [==============================] - 1s 722ms/step - loss: 1.1679 - accuracy: 0.6651 - val_loss: 1.1391 - val_accuracy: 0.6550\n",
            "Epoch 44/100\n",
            "1/1 [==============================] - 1s 723ms/step - loss: 1.1548 - accuracy: 0.6697 - val_loss: 1.1218 - val_accuracy: 0.6599\n",
            "Epoch 45/100\n",
            "1/1 [==============================] - 1s 712ms/step - loss: 1.1421 - accuracy: 0.6735 - val_loss: 1.1052 - val_accuracy: 0.6646\n",
            "Epoch 46/100\n",
            "1/1 [==============================] - 1s 716ms/step - loss: 1.1298 - accuracy: 0.6775 - val_loss: 1.0895 - val_accuracy: 0.6696\n",
            "Epoch 47/100\n",
            "1/1 [==============================] - 1s 743ms/step - loss: 1.1179 - accuracy: 0.6813 - val_loss: 1.0744 - val_accuracy: 0.6744\n",
            "Epoch 48/100\n",
            "1/1 [==============================] - 1s 722ms/step - loss: 1.1064 - accuracy: 0.6849 - val_loss: 1.0600 - val_accuracy: 0.6793\n",
            "Epoch 49/100\n",
            "1/1 [==============================] - 1s 695ms/step - loss: 1.0952 - accuracy: 0.6889 - val_loss: 1.0462 - val_accuracy: 0.6844\n",
            "Epoch 50/100\n",
            "1/1 [==============================] - 1s 716ms/step - loss: 1.0844 - accuracy: 0.6920 - val_loss: 1.0329 - val_accuracy: 0.6886\n",
            "Epoch 51/100\n",
            "1/1 [==============================] - 1s 706ms/step - loss: 1.0739 - accuracy: 0.6954 - val_loss: 1.0203 - val_accuracy: 0.6923\n",
            "Epoch 52/100\n",
            "1/1 [==============================] - 1s 689ms/step - loss: 1.0637 - accuracy: 0.6990 - val_loss: 1.0081 - val_accuracy: 0.6956\n",
            "Epoch 53/100\n",
            "1/1 [==============================] - 1s 717ms/step - loss: 1.0539 - accuracy: 0.7022 - val_loss: 0.9964 - val_accuracy: 0.6985\n",
            "Epoch 54/100\n",
            "1/1 [==============================] - 1s 711ms/step - loss: 1.0443 - accuracy: 0.7051 - val_loss: 0.9851 - val_accuracy: 0.7024\n",
            "Epoch 55/100\n",
            "1/1 [==============================] - 1s 697ms/step - loss: 1.0350 - accuracy: 0.7082 - val_loss: 0.9743 - val_accuracy: 0.7048\n",
            "Epoch 56/100\n",
            "1/1 [==============================] - 1s 718ms/step - loss: 1.0259 - accuracy: 0.7112 - val_loss: 0.9639 - val_accuracy: 0.7074\n",
            "Epoch 57/100\n",
            "1/1 [==============================] - 1s 733ms/step - loss: 1.0171 - accuracy: 0.7140 - val_loss: 0.9538 - val_accuracy: 0.7097\n",
            "Epoch 58/100\n",
            "1/1 [==============================] - 1s 714ms/step - loss: 1.0085 - accuracy: 0.7169 - val_loss: 0.9442 - val_accuracy: 0.7123\n",
            "Epoch 59/100\n",
            "1/1 [==============================] - 1s 701ms/step - loss: 1.0002 - accuracy: 0.7196 - val_loss: 0.9348 - val_accuracy: 0.7153\n",
            "Epoch 60/100\n",
            "1/1 [==============================] - 1s 699ms/step - loss: 0.9921 - accuracy: 0.7218 - val_loss: 0.9258 - val_accuracy: 0.7183\n",
            "Epoch 61/100\n",
            "1/1 [==============================] - 1s 704ms/step - loss: 0.9842 - accuracy: 0.7244 - val_loss: 0.9170 - val_accuracy: 0.7210\n",
            "Epoch 62/100\n",
            "1/1 [==============================] - 1s 696ms/step - loss: 0.9765 - accuracy: 0.7269 - val_loss: 0.9086 - val_accuracy: 0.7233\n",
            "Epoch 63/100\n",
            "1/1 [==============================] - 1s 722ms/step - loss: 0.9689 - accuracy: 0.7294 - val_loss: 0.9004 - val_accuracy: 0.7260\n",
            "Epoch 64/100\n",
            "1/1 [==============================] - 1s 722ms/step - loss: 0.9616 - accuracy: 0.7315 - val_loss: 0.8925 - val_accuracy: 0.7293\n",
            "Epoch 65/100\n",
            "1/1 [==============================] - 1s 725ms/step - loss: 0.9545 - accuracy: 0.7341 - val_loss: 0.8848 - val_accuracy: 0.7307\n",
            "Epoch 66/100\n",
            "1/1 [==============================] - 1s 733ms/step - loss: 0.9475 - accuracy: 0.7365 - val_loss: 0.8774 - val_accuracy: 0.7339\n",
            "Epoch 67/100\n",
            "1/1 [==============================] - 1s 722ms/step - loss: 0.9407 - accuracy: 0.7388 - val_loss: 0.8701 - val_accuracy: 0.7360\n",
            "Epoch 68/100\n",
            "1/1 [==============================] - 1s 744ms/step - loss: 0.9340 - accuracy: 0.7410 - val_loss: 0.8631 - val_accuracy: 0.7390\n",
            "Epoch 69/100\n",
            "1/1 [==============================] - 1s 705ms/step - loss: 0.9275 - accuracy: 0.7429 - val_loss: 0.8563 - val_accuracy: 0.7411\n",
            "Epoch 70/100\n",
            "1/1 [==============================] - 1s 730ms/step - loss: 0.9212 - accuracy: 0.7448 - val_loss: 0.8497 - val_accuracy: 0.7444\n",
            "Epoch 71/100\n",
            "1/1 [==============================] - 1s 725ms/step - loss: 0.9150 - accuracy: 0.7466 - val_loss: 0.8433 - val_accuracy: 0.7465\n",
            "Epoch 72/100\n",
            "1/1 [==============================] - 1s 710ms/step - loss: 0.9089 - accuracy: 0.7486 - val_loss: 0.8371 - val_accuracy: 0.7485\n",
            "Epoch 73/100\n",
            "1/1 [==============================] - 1s 714ms/step - loss: 0.9030 - accuracy: 0.7505 - val_loss: 0.8310 - val_accuracy: 0.7502\n",
            "Epoch 74/100\n",
            "1/1 [==============================] - 1s 728ms/step - loss: 0.8972 - accuracy: 0.7522 - val_loss: 0.8251 - val_accuracy: 0.7517\n",
            "Epoch 75/100\n",
            "1/1 [==============================] - 1s 712ms/step - loss: 0.8915 - accuracy: 0.7538 - val_loss: 0.8194 - val_accuracy: 0.7547\n",
            "Epoch 76/100\n",
            "1/1 [==============================] - 1s 714ms/step - loss: 0.8860 - accuracy: 0.7553 - val_loss: 0.8138 - val_accuracy: 0.7565\n",
            "Epoch 77/100\n",
            "1/1 [==============================] - 1s 713ms/step - loss: 0.8805 - accuracy: 0.7566 - val_loss: 0.8083 - val_accuracy: 0.7583\n",
            "Epoch 78/100\n",
            "1/1 [==============================] - 1s 730ms/step - loss: 0.8752 - accuracy: 0.7583 - val_loss: 0.8030 - val_accuracy: 0.7604\n",
            "Epoch 79/100\n",
            "1/1 [==============================] - 1s 716ms/step - loss: 0.8700 - accuracy: 0.7599 - val_loss: 0.7978 - val_accuracy: 0.7627\n",
            "Epoch 80/100\n",
            "1/1 [==============================] - 1s 707ms/step - loss: 0.8649 - accuracy: 0.7613 - val_loss: 0.7928 - val_accuracy: 0.7644\n",
            "Epoch 81/100\n",
            "1/1 [==============================] - 1s 715ms/step - loss: 0.8599 - accuracy: 0.7630 - val_loss: 0.7878 - val_accuracy: 0.7660\n",
            "Epoch 82/100\n",
            "1/1 [==============================] - 1s 704ms/step - loss: 0.8550 - accuracy: 0.7644 - val_loss: 0.7830 - val_accuracy: 0.7668\n",
            "Epoch 83/100\n",
            "1/1 [==============================] - 1s 727ms/step - loss: 0.8501 - accuracy: 0.7657 - val_loss: 0.7783 - val_accuracy: 0.7681\n",
            "Epoch 84/100\n",
            "1/1 [==============================] - 1s 705ms/step - loss: 0.8454 - accuracy: 0.7671 - val_loss: 0.7737 - val_accuracy: 0.7696\n",
            "Epoch 85/100\n",
            "1/1 [==============================] - 1s 718ms/step - loss: 0.8408 - accuracy: 0.7685 - val_loss: 0.7693 - val_accuracy: 0.7707\n",
            "Epoch 86/100\n",
            "1/1 [==============================] - 1s 725ms/step - loss: 0.8363 - accuracy: 0.7698 - val_loss: 0.7649 - val_accuracy: 0.7724\n",
            "Epoch 87/100\n",
            "1/1 [==============================] - 1s 750ms/step - loss: 0.8318 - accuracy: 0.7710 - val_loss: 0.7606 - val_accuracy: 0.7747\n",
            "Epoch 88/100\n",
            "1/1 [==============================] - 1s 717ms/step - loss: 0.8274 - accuracy: 0.7721 - val_loss: 0.7564 - val_accuracy: 0.7762\n",
            "Epoch 89/100\n",
            "1/1 [==============================] - 1s 727ms/step - loss: 0.8231 - accuracy: 0.7735 - val_loss: 0.7523 - val_accuracy: 0.7778\n",
            "Epoch 90/100\n",
            "1/1 [==============================] - 1s 726ms/step - loss: 0.8189 - accuracy: 0.7747 - val_loss: 0.7483 - val_accuracy: 0.7796\n",
            "Epoch 91/100\n",
            "1/1 [==============================] - 1s 740ms/step - loss: 0.8148 - accuracy: 0.7759 - val_loss: 0.7444 - val_accuracy: 0.7805\n",
            "Epoch 92/100\n",
            "1/1 [==============================] - 1s 717ms/step - loss: 0.8107 - accuracy: 0.7770 - val_loss: 0.7406 - val_accuracy: 0.7821\n",
            "Epoch 93/100\n",
            "1/1 [==============================] - 1s 707ms/step - loss: 0.8067 - accuracy: 0.7781 - val_loss: 0.7368 - val_accuracy: 0.7832\n",
            "Epoch 94/100\n",
            "1/1 [==============================] - 1s 721ms/step - loss: 0.8028 - accuracy: 0.7795 - val_loss: 0.7331 - val_accuracy: 0.7846\n",
            "Epoch 95/100\n",
            "1/1 [==============================] - 1s 719ms/step - loss: 0.7989 - accuracy: 0.7805 - val_loss: 0.7295 - val_accuracy: 0.7855\n",
            "Epoch 96/100\n",
            "1/1 [==============================] - 1s 701ms/step - loss: 0.7951 - accuracy: 0.7816 - val_loss: 0.7260 - val_accuracy: 0.7868\n",
            "Epoch 97/100\n",
            "1/1 [==============================] - 1s 763ms/step - loss: 0.7914 - accuracy: 0.7826 - val_loss: 0.7226 - val_accuracy: 0.7884\n",
            "Epoch 98/100\n",
            "1/1 [==============================] - 1s 753ms/step - loss: 0.7877 - accuracy: 0.7837 - val_loss: 0.7192 - val_accuracy: 0.7890\n",
            "Epoch 99/100\n",
            "1/1 [==============================] - 1s 690ms/step - loss: 0.7841 - accuracy: 0.7847 - val_loss: 0.7159 - val_accuracy: 0.7899\n",
            "Epoch 100/100\n",
            "1/1 [==============================] - 1s 733ms/step - loss: 0.7806 - accuracy: 0.7856 - val_loss: 0.7126 - val_accuracy: 0.7912\n"
          ]
        },
        {
          "output_type": "execute_result",
          "data": {
            "text/plain": [
              "<keras.callbacks.History at 0x7fdbfc834c10>"
            ]
          },
          "metadata": {},
          "execution_count": 28
        }
      ]
    },
    {
      "cell_type": "code",
      "source": [
        "#same processwith minibatch\n",
        "model.fit(train_x,train_y, validation_data=(test_x,test_y), epochs=10\n",
        "          , batch_size=32)\n"
      ],
      "metadata": {
        "colab": {
          "base_uri": "https://localhost:8080/"
        },
        "id": "etrHjU3T-asJ",
        "outputId": "3a348068-22f8-4772-87d6-736573159e92"
      },
      "execution_count": 30,
      "outputs": [
        {
          "output_type": "stream",
          "name": "stdout",
          "text": [
            "Epoch 1/10\n",
            "1875/1875 [==============================] - 5s 3ms/step - loss: 0.2995 - accuracy: 0.9140 - val_loss: 0.3458 - val_accuracy: 0.9201\n",
            "Epoch 2/10\n",
            "1875/1875 [==============================] - 5s 3ms/step - loss: 0.2982 - accuracy: 0.9150 - val_loss: 0.3410 - val_accuracy: 0.9208\n",
            "Epoch 3/10\n",
            "1875/1875 [==============================] - 5s 2ms/step - loss: 0.2960 - accuracy: 0.9163 - val_loss: 0.4097 - val_accuracy: 0.9190\n",
            "Epoch 4/10\n",
            "1875/1875 [==============================] - 5s 2ms/step - loss: 0.2969 - accuracy: 0.9153 - val_loss: 0.4082 - val_accuracy: 0.9202\n",
            "Epoch 5/10\n",
            "1875/1875 [==============================] - 5s 2ms/step - loss: 0.2951 - accuracy: 0.9158 - val_loss: 0.4189 - val_accuracy: 0.9203\n",
            "Epoch 6/10\n",
            "1875/1875 [==============================] - 5s 3ms/step - loss: 0.2938 - accuracy: 0.9166 - val_loss: 0.3769 - val_accuracy: 0.9203\n",
            "Epoch 7/10\n",
            "1875/1875 [==============================] - 5s 3ms/step - loss: 0.2927 - accuracy: 0.9164 - val_loss: 0.3735 - val_accuracy: 0.9204\n",
            "Epoch 8/10\n",
            "1875/1875 [==============================] - 5s 3ms/step - loss: 0.2906 - accuracy: 0.9177 - val_loss: 0.4044 - val_accuracy: 0.9199\n",
            "Epoch 9/10\n",
            "1875/1875 [==============================] - 5s 2ms/step - loss: 0.2936 - accuracy: 0.9168 - val_loss: 0.3870 - val_accuracy: 0.9201\n",
            "Epoch 10/10\n",
            "1875/1875 [==============================] - 5s 2ms/step - loss: 0.2909 - accuracy: 0.9174 - val_loss: 0.3976 - val_accuracy: 0.9203\n"
          ]
        },
        {
          "output_type": "execute_result",
          "data": {
            "text/plain": [
              "<keras.callbacks.History at 0x7fdbfc602050>"
            ]
          },
          "metadata": {},
          "execution_count": 30
        }
      ]
    },
    {
      "cell_type": "code",
      "source": [
        ""
      ],
      "metadata": {
        "id": "d8CAEJgFIFFn"
      },
      "execution_count": null,
      "outputs": []
    }
  ]
}