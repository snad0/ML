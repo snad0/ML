{
  "nbformat": 4,
  "nbformat_minor": 0,
  "metadata": {
    "colab": {
      "name": "Untitled0.ipynb",
      "provenance": [],
      "authorship_tag": "ABX9TyM20kwMmRflAQnppFn6xfoF",
      "include_colab_link": true
    },
    "kernelspec": {
      "name": "python3",
      "display_name": "Python 3"
    },
    "language_info": {
      "name": "python"
    }
  },
  "cells": [
    {
      "cell_type": "markdown",
      "metadata": {
        "id": "view-in-github",
        "colab_type": "text"
      },
      "source": [
        "<a href=\"https://colab.research.google.com/github/snad0/ML/blob/master/DeepNN_on_MNIST.ipynb\" target=\"_parent\"><img src=\"https://colab.research.google.com/assets/colab-badge.svg\" alt=\"Open In Colab\"/></a>"
      ]
    },
    {
      "cell_type": "code",
      "execution_count": 1,
      "metadata": {
        "colab": {
          "base_uri": "https://localhost:8080/"
        },
        "id": "0nQyZimndrym",
        "outputId": "10d3e8cf-bfdc-49bd-8cf9-936f95287c35"
      },
      "outputs": [
        {
          "output_type": "stream",
          "name": "stdout",
          "text": [
            "Downloading data from https://storage.googleapis.com/tensorflow/tf-keras-datasets/mnist.npz\n",
            "11493376/11490434 [==============================] - 0s 0us/step\n",
            "11501568/11490434 [==============================] - 0s 0us/step\n"
          ]
        }
      ],
      "source": [
        "import tensorflow as tf\n",
        "tf.random.set_seed(42) #make randomness fixed\n",
        "(train_x, train_y),(test_x,test_y) = tf.keras.datasets.mnist.load_data()\n",
        "train_y = tf.keras.utils.to_categorical(train_y, num_classes=10)\n",
        "test_y = tf.keras.utils.to_categorical(test_y, num_classes=10)"
      ]
    },
    {
      "cell_type": "code",
      "source": [
        "#Initializing sequential model\n",
        "model= tf.keras.models.Sequential()\n",
        "\n",
        "#reshaping data\n",
        "model.add(tf.keras.layers.Reshape((784,), input_shape=(28,28)))\n",
        "\n",
        "#Normaliuzing the data\n",
        "model.add(tf.keras.layers.BatchNormalization())"
      ],
      "metadata": {
        "id": "fwr3EBX4dufZ"
      },
      "execution_count": 2,
      "outputs": []
    },
    {
      "cell_type": "code",
      "source": [
        "#add 1st hidden layer\n",
        "model.add(tf.keras.layers.Dense(200, activation='sigmoid'))\n",
        "#add 2nd hidden layer\n",
        "model.add(tf.keras.layers.Dense(100, activation='sigmoid'))\n",
        "#add 3rd hidden layer\n",
        "model.add(tf.keras.layers.Dense(60, activation='sigmoid'))\n",
        "#add 4th hidden layer\n",
        "model.add(tf.keras.layers.Dense(30, activation='sigmoid'))"
      ],
      "metadata": {
        "id": "SBuYR9yTdxGf"
      },
      "execution_count": 3,
      "outputs": []
    },
    {
      "cell_type": "code",
      "source": [
        "model.add(tf.keras.layers.Dense(10, activation='softmax'))"
      ],
      "metadata": {
        "id": "pdsFUDBxdzif"
      },
      "execution_count": 4,
      "outputs": []
    },
    {
      "cell_type": "code",
      "source": [
        "#compile the network\n",
        "model.compile(optimizer='sgd', loss='categorical_crossentropy', \n",
        "              metrics=['accuracy'])"
      ],
      "metadata": {
        "id": "zVAYuL3Od183"
      },
      "execution_count": 5,
      "outputs": []
    },
    {
      "cell_type": "code",
      "source": [
        "#training the model\n",
        "model.fit(train_x,train_y, validation_data=(test_x,test_y), epochs=30\n",
        "          , batch_size=32)\n"
      ],
      "metadata": {
        "colab": {
          "base_uri": "https://localhost:8080/"
        },
        "id": "c0pfU7ZId5nm",
        "outputId": "16fa6c5f-593a-4e34-9a7b-f60ba6b71d40"
      },
      "execution_count": 6,
      "outputs": [
        {
          "output_type": "stream",
          "name": "stdout",
          "text": [
            "Epoch 1/30\n",
            "1875/1875 [==============================] - 10s 5ms/step - loss: 2.3048 - accuracy: 0.1120 - val_loss: 2.2970 - val_accuracy: 0.1024\n",
            "Epoch 2/30\n",
            "1875/1875 [==============================] - 8s 4ms/step - loss: 2.2952 - accuracy: 0.1215 - val_loss: 2.2918 - val_accuracy: 0.1976\n",
            "Epoch 3/30\n",
            "1875/1875 [==============================] - 8s 4ms/step - loss: 2.2885 - accuracy: 0.1292 - val_loss: 2.2819 - val_accuracy: 0.1367\n",
            "Epoch 4/30\n",
            "1875/1875 [==============================] - 9s 5ms/step - loss: 2.2738 - accuracy: 0.1638 - val_loss: 2.2585 - val_accuracy: 0.2646\n",
            "Epoch 5/30\n",
            "1875/1875 [==============================] - 8s 5ms/step - loss: 2.2226 - accuracy: 0.2883 - val_loss: 2.1501 - val_accuracy: 0.3587\n",
            "Epoch 6/30\n",
            "1875/1875 [==============================] - 8s 4ms/step - loss: 2.0002 - accuracy: 0.3338 - val_loss: 1.8315 - val_accuracy: 0.3906\n",
            "Epoch 7/30\n",
            "1875/1875 [==============================] - 8s 4ms/step - loss: 1.7499 - accuracy: 0.3656 - val_loss: 1.6486 - val_accuracy: 0.4548\n",
            "Epoch 8/30\n",
            "1875/1875 [==============================] - 8s 5ms/step - loss: 1.5767 - accuracy: 0.4344 - val_loss: 1.4494 - val_accuracy: 0.4890\n",
            "Epoch 9/30\n",
            "1875/1875 [==============================] - 9s 5ms/step - loss: 1.3787 - accuracy: 0.5128 - val_loss: 1.2563 - val_accuracy: 0.5272\n",
            "Epoch 10/30\n",
            "1875/1875 [==============================] - 9s 5ms/step - loss: 1.2110 - accuracy: 0.5972 - val_loss: 1.1023 - val_accuracy: 0.6824\n",
            "Epoch 11/30\n",
            "1875/1875 [==============================] - 9s 5ms/step - loss: 1.0559 - accuracy: 0.6831 - val_loss: 0.9442 - val_accuracy: 0.7373\n",
            "Epoch 12/30\n",
            "1875/1875 [==============================] - 9s 5ms/step - loss: 0.9180 - accuracy: 0.7240 - val_loss: 0.8239 - val_accuracy: 0.7575\n",
            "Epoch 13/30\n",
            "1875/1875 [==============================] - 9s 5ms/step - loss: 0.8191 - accuracy: 0.7545 - val_loss: 0.7343 - val_accuracy: 0.8008\n",
            "Epoch 14/30\n",
            "1875/1875 [==============================] - 9s 5ms/step - loss: 0.7427 - accuracy: 0.7872 - val_loss: 0.6504 - val_accuracy: 0.8325\n",
            "Epoch 15/30\n",
            "1875/1875 [==============================] - 9s 5ms/step - loss: 0.6635 - accuracy: 0.8162 - val_loss: 0.5719 - val_accuracy: 0.8552\n",
            "Epoch 16/30\n",
            "1875/1875 [==============================] - 8s 4ms/step - loss: 0.5931 - accuracy: 0.8364 - val_loss: 0.5151 - val_accuracy: 0.8678\n",
            "Epoch 17/30\n",
            "1875/1875 [==============================] - 8s 4ms/step - loss: 0.5460 - accuracy: 0.8491 - val_loss: 0.4776 - val_accuracy: 0.8757\n",
            "Epoch 18/30\n",
            "1875/1875 [==============================] - 8s 4ms/step - loss: 0.5101 - accuracy: 0.8576 - val_loss: 0.4485 - val_accuracy: 0.8814\n",
            "Epoch 19/30\n",
            "1875/1875 [==============================] - 9s 5ms/step - loss: 0.4825 - accuracy: 0.8640 - val_loss: 0.4255 - val_accuracy: 0.8858\n",
            "Epoch 20/30\n",
            "1875/1875 [==============================] - 9s 5ms/step - loss: 0.4615 - accuracy: 0.8695 - val_loss: 0.4033 - val_accuracy: 0.8904\n",
            "Epoch 21/30\n",
            "1875/1875 [==============================] - 8s 4ms/step - loss: 0.4352 - accuracy: 0.8771 - val_loss: 0.3861 - val_accuracy: 0.8959\n",
            "Epoch 22/30\n",
            "1875/1875 [==============================] - 9s 5ms/step - loss: 0.4183 - accuracy: 0.8824 - val_loss: 0.3675 - val_accuracy: 0.9007\n",
            "Epoch 23/30\n",
            "1875/1875 [==============================] - 8s 5ms/step - loss: 0.3996 - accuracy: 0.8880 - val_loss: 0.3515 - val_accuracy: 0.9057\n",
            "Epoch 24/30\n",
            "1875/1875 [==============================] - 9s 5ms/step - loss: 0.3774 - accuracy: 0.8934 - val_loss: 0.3392 - val_accuracy: 0.9074\n",
            "Epoch 25/30\n",
            "1875/1875 [==============================] - 9s 5ms/step - loss: 0.3617 - accuracy: 0.8973 - val_loss: 0.3239 - val_accuracy: 0.9129\n",
            "Epoch 26/30\n",
            "1875/1875 [==============================] - 9s 5ms/step - loss: 0.3480 - accuracy: 0.9015 - val_loss: 0.3120 - val_accuracy: 0.9145\n",
            "Epoch 27/30\n",
            "1875/1875 [==============================] - 9s 5ms/step - loss: 0.3301 - accuracy: 0.9073 - val_loss: 0.3009 - val_accuracy: 0.9185\n",
            "Epoch 28/30\n",
            "1875/1875 [==============================] - 8s 4ms/step - loss: 0.3169 - accuracy: 0.9107 - val_loss: 0.2898 - val_accuracy: 0.9221\n",
            "Epoch 29/30\n",
            "1875/1875 [==============================] - 9s 5ms/step - loss: 0.3025 - accuracy: 0.9144 - val_loss: 0.2749 - val_accuracy: 0.9255\n",
            "Epoch 30/30\n",
            "1875/1875 [==============================] - 9s 5ms/step - loss: 0.2894 - accuracy: 0.9195 - val_loss: 0.2662 - val_accuracy: 0.9289\n"
          ]
        },
        {
          "output_type": "execute_result",
          "data": {
            "text/plain": [
              "<keras.callbacks.History at 0x7f94beab8d10>"
            ]
          },
          "metadata": {},
          "execution_count": 6
        }
      ]
    },
    {
      "cell_type": "code",
      "source": [
        "model.save('mnist_deepNN.h5')"
      ],
      "metadata": {
        "id": "ZSKePjveeJ02"
      },
      "execution_count": 7,
      "outputs": []
    },
    {
      "cell_type": "code",
      "source": [
        ""
      ],
      "metadata": {
        "id": "8lhsn-gufwwT"
      },
      "execution_count": null,
      "outputs": []
    }
  ]
}