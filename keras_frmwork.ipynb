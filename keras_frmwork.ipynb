{
  "nbformat": 4,
  "nbformat_minor": 0,
  "metadata": {
    "colab": {
      "name": "keras_frmwork.ipynb",
      "provenance": [],
      "authorship_tag": "ABX9TyMiipJWWfi0TAuDSc5ybU5K",
      "include_colab_link": true
    },
    "kernelspec": {
      "name": "python3",
      "display_name": "Python 3"
    },
    "language_info": {
      "name": "python"
    }
  },
  "cells": [
    {
      "cell_type": "markdown",
      "metadata": {
        "id": "view-in-github",
        "colab_type": "text"
      },
      "source": [
        "<a href=\"https://colab.research.google.com/github/snad0/ML/blob/master/keras_frmwork.ipynb\" target=\"_parent\"><img src=\"https://colab.research.google.com/assets/colab-badge.svg\" alt=\"Open In Colab\"/></a>"
      ]
    },
    {
      "cell_type": "code",
      "execution_count": 4,
      "metadata": {
        "id": "ZeW2lE8xqM0K"
      },
      "outputs": [],
      "source": [
        "import tensorflow as tf\n",
        "from sklearn.preprocessing import Normalizer\n",
        "import numpy as np\n"
      ]
    },
    {
      "cell_type": "code",
      "source": [
        "(train_x,train_y),(_,_) = tf.keras.datasets.boston_housing.load_data(test_split=0)"
      ],
      "metadata": {
        "colab": {
          "base_uri": "https://localhost:8080/"
        },
        "id": "Z8oqU6QBCJQT",
        "outputId": "459abb72-1a17-4dbf-f77c-740dca726f49"
      },
      "execution_count": 5,
      "outputs": [
        {
          "output_type": "stream",
          "name": "stdout",
          "text": [
            "Downloading data from https://storage.googleapis.com/tensorflow/tf-keras-datasets/boston_housing.npz\n",
            "57344/57026 [==============================] - 0s 0us/step\n",
            "65536/57026 [==================================] - 0s 0us/step\n"
          ]
        }
      ]
    },
    {
      "cell_type": "code",
      "source": [
        "transformer = Normalizer()\n",
        "train_x = transformer.fit_transform(train_x)"
      ],
      "metadata": {
        "id": "nbO9OxlnC_8P"
      },
      "execution_count": 7,
      "outputs": []
    },
    {
      "cell_type": "code",
      "source": [
        "train_x.dtype"
      ],
      "metadata": {
        "colab": {
          "base_uri": "https://localhost:8080/"
        },
        "id": "tL1jaNA7DTKH",
        "outputId": "8c78a430-1efb-4674-bf66-f2d588160796"
      },
      "execution_count": 9,
      "outputs": [
        {
          "output_type": "execute_result",
          "data": {
            "text/plain": [
              "dtype('float64')"
            ]
          },
          "metadata": {},
          "execution_count": 9
        }
      ]
    },
    {
      "cell_type": "code",
      "source": [
        "train_x = train_x.astype('float32')\n",
        "train_y = train_y.astype('float32')"
      ],
      "metadata": {
        "id": "2BuVa4DeDdN_"
      },
      "execution_count": 11,
      "outputs": []
    },
    {
      "cell_type": "code",
      "source": [
        "#model building part\n",
        "model = tf.keras.Sequential()\n",
        "model.add(tf.keras.layers.Dense(1, input_shape = (13,)))\n",
        "model.compile(optimizer='sgd', loss='mse')\n"
      ],
      "metadata": {
        "id": "tSng-MS-DnqW"
      },
      "execution_count": 17,
      "outputs": []
    },
    {
      "cell_type": "code",
      "source": [
        "#training the model\n",
        "model.fit(train_x, train_y, epochs=100)"
      ],
      "metadata": {
        "colab": {
          "base_uri": "https://localhost:8080/"
        },
        "id": "Bg-nIgZdD1RV",
        "outputId": "45de8aad-d5d8-46ea-ce00-0f156ffa21c8"
      },
      "execution_count": 28,
      "outputs": [
        {
          "output_type": "stream",
          "name": "stdout",
          "text": [
            "Epoch 1/100\n",
            "16/16 [==============================] - 0s 1ms/step - loss: 60.9757\n",
            "Epoch 2/100\n",
            "16/16 [==============================] - 0s 1ms/step - loss: 60.9676\n",
            "Epoch 3/100\n",
            "16/16 [==============================] - 0s 2ms/step - loss: 60.9528\n",
            "Epoch 4/100\n",
            "16/16 [==============================] - 0s 1ms/step - loss: 60.9190\n",
            "Epoch 5/100\n",
            "16/16 [==============================] - 0s 1ms/step - loss: 60.9232\n",
            "Epoch 6/100\n",
            "16/16 [==============================] - 0s 2ms/step - loss: 60.9740\n",
            "Epoch 7/100\n",
            "16/16 [==============================] - 0s 1ms/step - loss: 60.8957\n",
            "Epoch 8/100\n",
            "16/16 [==============================] - 0s 1ms/step - loss: 60.9101\n",
            "Epoch 9/100\n",
            "16/16 [==============================] - 0s 1ms/step - loss: 60.8888\n",
            "Epoch 10/100\n",
            "16/16 [==============================] - 0s 1ms/step - loss: 60.9164\n",
            "Epoch 11/100\n",
            "16/16 [==============================] - 0s 1ms/step - loss: 60.9369\n",
            "Epoch 12/100\n",
            "16/16 [==============================] - 0s 1ms/step - loss: 60.9032\n",
            "Epoch 13/100\n",
            "16/16 [==============================] - 0s 1ms/step - loss: 60.8969\n",
            "Epoch 14/100\n",
            "16/16 [==============================] - 0s 1ms/step - loss: 60.9269\n",
            "Epoch 15/100\n",
            "16/16 [==============================] - 0s 1ms/step - loss: 60.8630\n",
            "Epoch 16/100\n",
            "16/16 [==============================] - 0s 1ms/step - loss: 60.8973\n",
            "Epoch 17/100\n",
            "16/16 [==============================] - 0s 1ms/step - loss: 60.8979\n",
            "Epoch 18/100\n",
            "16/16 [==============================] - 0s 1ms/step - loss: 60.9052\n",
            "Epoch 19/100\n",
            "16/16 [==============================] - 0s 1ms/step - loss: 60.8649\n",
            "Epoch 20/100\n",
            "16/16 [==============================] - 0s 1ms/step - loss: 60.8518\n",
            "Epoch 21/100\n",
            "16/16 [==============================] - 0s 1ms/step - loss: 60.8284\n",
            "Epoch 22/100\n",
            "16/16 [==============================] - 0s 2ms/step - loss: 60.8522\n",
            "Epoch 23/100\n",
            "16/16 [==============================] - 0s 2ms/step - loss: 60.8402\n",
            "Epoch 24/100\n",
            "16/16 [==============================] - 0s 2ms/step - loss: 60.8655\n",
            "Epoch 25/100\n",
            "16/16 [==============================] - 0s 1ms/step - loss: 60.8605\n",
            "Epoch 26/100\n",
            "16/16 [==============================] - 0s 2ms/step - loss: 60.8428\n",
            "Epoch 27/100\n",
            "16/16 [==============================] - 0s 2ms/step - loss: 60.8408\n",
            "Epoch 28/100\n",
            "16/16 [==============================] - 0s 2ms/step - loss: 60.8446\n",
            "Epoch 29/100\n",
            "16/16 [==============================] - 0s 2ms/step - loss: 60.7979\n",
            "Epoch 30/100\n",
            "16/16 [==============================] - 0s 2ms/step - loss: 60.8223\n",
            "Epoch 31/100\n",
            "16/16 [==============================] - 0s 1ms/step - loss: 60.7866\n",
            "Epoch 32/100\n",
            "16/16 [==============================] - 0s 1ms/step - loss: 60.8228\n",
            "Epoch 33/100\n",
            "16/16 [==============================] - 0s 1ms/step - loss: 60.7901\n",
            "Epoch 34/100\n",
            "16/16 [==============================] - 0s 1ms/step - loss: 60.8164\n",
            "Epoch 35/100\n",
            "16/16 [==============================] - 0s 1ms/step - loss: 60.8059\n",
            "Epoch 36/100\n",
            "16/16 [==============================] - 0s 1ms/step - loss: 60.8791\n",
            "Epoch 37/100\n",
            "16/16 [==============================] - 0s 1ms/step - loss: 60.7884\n",
            "Epoch 38/100\n",
            "16/16 [==============================] - 0s 1ms/step - loss: 60.7629\n",
            "Epoch 39/100\n",
            "16/16 [==============================] - 0s 2ms/step - loss: 60.7527\n",
            "Epoch 40/100\n",
            "16/16 [==============================] - 0s 1ms/step - loss: 60.7753\n",
            "Epoch 41/100\n",
            "16/16 [==============================] - 0s 2ms/step - loss: 60.7254\n",
            "Epoch 42/100\n",
            "16/16 [==============================] - 0s 1ms/step - loss: 60.7391\n",
            "Epoch 43/100\n",
            "16/16 [==============================] - 0s 1ms/step - loss: 60.7151\n",
            "Epoch 44/100\n",
            "16/16 [==============================] - 0s 1ms/step - loss: 60.7148\n",
            "Epoch 45/100\n",
            "16/16 [==============================] - 0s 1ms/step - loss: 60.7203\n",
            "Epoch 46/100\n",
            "16/16 [==============================] - 0s 1ms/step - loss: 60.7583\n",
            "Epoch 47/100\n",
            "16/16 [==============================] - 0s 1ms/step - loss: 60.7770\n",
            "Epoch 48/100\n",
            "16/16 [==============================] - 0s 1ms/step - loss: 60.6909\n",
            "Epoch 49/100\n",
            "16/16 [==============================] - 0s 1ms/step - loss: 60.7533\n",
            "Epoch 50/100\n",
            "16/16 [==============================] - 0s 1ms/step - loss: 60.6956\n",
            "Epoch 51/100\n",
            "16/16 [==============================] - 0s 1ms/step - loss: 60.6912\n",
            "Epoch 52/100\n",
            "16/16 [==============================] - 0s 1ms/step - loss: 60.7045\n",
            "Epoch 53/100\n",
            "16/16 [==============================] - 0s 1ms/step - loss: 60.6954\n",
            "Epoch 54/100\n",
            "16/16 [==============================] - 0s 1ms/step - loss: 60.6929\n",
            "Epoch 55/100\n",
            "16/16 [==============================] - 0s 1ms/step - loss: 60.7105\n",
            "Epoch 56/100\n",
            "16/16 [==============================] - 0s 2ms/step - loss: 60.6929\n",
            "Epoch 57/100\n",
            "16/16 [==============================] - 0s 1ms/step - loss: 60.7007\n",
            "Epoch 58/100\n",
            "16/16 [==============================] - 0s 2ms/step - loss: 60.6928\n",
            "Epoch 59/100\n",
            "16/16 [==============================] - 0s 1ms/step - loss: 60.6739\n",
            "Epoch 60/100\n",
            "16/16 [==============================] - 0s 1ms/step - loss: 60.6588\n",
            "Epoch 61/100\n",
            "16/16 [==============================] - 0s 1ms/step - loss: 60.6824\n",
            "Epoch 62/100\n",
            "16/16 [==============================] - 0s 2ms/step - loss: 60.6141\n",
            "Epoch 63/100\n",
            "16/16 [==============================] - 0s 1ms/step - loss: 60.6837\n",
            "Epoch 64/100\n",
            "16/16 [==============================] - 0s 1ms/step - loss: 60.6675\n",
            "Epoch 65/100\n",
            "16/16 [==============================] - 0s 2ms/step - loss: 60.6302\n",
            "Epoch 66/100\n",
            "16/16 [==============================] - 0s 1ms/step - loss: 60.6353\n",
            "Epoch 67/100\n",
            "16/16 [==============================] - 0s 1ms/step - loss: 60.6293\n",
            "Epoch 68/100\n",
            "16/16 [==============================] - 0s 2ms/step - loss: 60.6483\n",
            "Epoch 69/100\n",
            "16/16 [==============================] - 0s 1ms/step - loss: 60.6100\n",
            "Epoch 70/100\n",
            "16/16 [==============================] - 0s 1ms/step - loss: 60.6333\n",
            "Epoch 71/100\n",
            "16/16 [==============================] - 0s 1ms/step - loss: 60.6417\n",
            "Epoch 72/100\n",
            "16/16 [==============================] - 0s 2ms/step - loss: 60.6218\n",
            "Epoch 73/100\n",
            "16/16 [==============================] - 0s 2ms/step - loss: 60.6340\n",
            "Epoch 74/100\n",
            "16/16 [==============================] - 0s 2ms/step - loss: 60.5995\n",
            "Epoch 75/100\n",
            "16/16 [==============================] - 0s 2ms/step - loss: 60.5824\n",
            "Epoch 76/100\n",
            "16/16 [==============================] - 0s 2ms/step - loss: 60.6057\n",
            "Epoch 77/100\n",
            "16/16 [==============================] - 0s 1ms/step - loss: 60.5819\n",
            "Epoch 78/100\n",
            "16/16 [==============================] - 0s 1ms/step - loss: 60.5630\n",
            "Epoch 79/100\n",
            "16/16 [==============================] - 0s 1ms/step - loss: 60.5625\n",
            "Epoch 80/100\n",
            "16/16 [==============================] - 0s 1ms/step - loss: 60.5958\n",
            "Epoch 81/100\n",
            "16/16 [==============================] - 0s 1ms/step - loss: 60.5787\n",
            "Epoch 82/100\n",
            "16/16 [==============================] - 0s 1ms/step - loss: 60.5857\n",
            "Epoch 83/100\n",
            "16/16 [==============================] - 0s 1ms/step - loss: 60.5740\n",
            "Epoch 84/100\n",
            "16/16 [==============================] - 0s 1ms/step - loss: 60.5309\n",
            "Epoch 85/100\n",
            "16/16 [==============================] - 0s 1ms/step - loss: 60.6009\n",
            "Epoch 86/100\n",
            "16/16 [==============================] - 0s 1ms/step - loss: 60.5548\n",
            "Epoch 87/100\n",
            "16/16 [==============================] - 0s 1ms/step - loss: 60.5261\n",
            "Epoch 88/100\n",
            "16/16 [==============================] - 0s 1ms/step - loss: 60.5233\n",
            "Epoch 89/100\n",
            "16/16 [==============================] - 0s 1ms/step - loss: 60.5376\n",
            "Epoch 90/100\n",
            "16/16 [==============================] - 0s 1ms/step - loss: 60.5300\n",
            "Epoch 91/100\n",
            "16/16 [==============================] - 0s 2ms/step - loss: 60.5269\n",
            "Epoch 92/100\n",
            "16/16 [==============================] - 0s 2ms/step - loss: 60.5415\n",
            "Epoch 93/100\n",
            "16/16 [==============================] - 0s 2ms/step - loss: 60.5178\n",
            "Epoch 94/100\n",
            "16/16 [==============================] - 0s 2ms/step - loss: 60.4923\n",
            "Epoch 95/100\n",
            "16/16 [==============================] - 0s 2ms/step - loss: 60.5032\n",
            "Epoch 96/100\n",
            "16/16 [==============================] - 0s 2ms/step - loss: 60.4992\n",
            "Epoch 97/100\n",
            "16/16 [==============================] - 0s 2ms/step - loss: 60.4881\n",
            "Epoch 98/100\n",
            "16/16 [==============================] - 0s 1ms/step - loss: 60.4802\n",
            "Epoch 99/100\n",
            "16/16 [==============================] - 0s 1ms/step - loss: 60.4854\n",
            "Epoch 100/100\n",
            "16/16 [==============================] - 0s 2ms/step - loss: 60.4813\n"
          ]
        },
        {
          "output_type": "execute_result",
          "data": {
            "text/plain": [
              "<keras.callbacks.History at 0x7fa63286dad0>"
            ]
          },
          "metadata": {},
          "execution_count": 28
        }
      ]
    },
    {
      "cell_type": "code",
      "source": [
        "model.summary()"
      ],
      "metadata": {
        "colab": {
          "base_uri": "https://localhost:8080/"
        },
        "id": "hznggk6MEO1-",
        "outputId": "9575e189-e640-4403-b9f0-518df885f88f"
      },
      "execution_count": 29,
      "outputs": [
        {
          "output_type": "stream",
          "name": "stdout",
          "text": [
            "Model: \"sequential_4\"\n",
            "_________________________________________________________________\n",
            " Layer (type)                Output Shape              Param #   \n",
            "=================================================================\n",
            " dense_1 (Dense)             (None, 1)                 14        \n",
            "                                                                 \n",
            "=================================================================\n",
            "Total params: 14\n",
            "Trainable params: 14\n",
            "Non-trainable params: 0\n",
            "_________________________________________________________________\n"
          ]
        }
      ]
    },
    {
      "cell_type": "code",
      "source": [
        "model.get_weights()"
      ],
      "metadata": {
        "colab": {
          "base_uri": "https://localhost:8080/"
        },
        "id": "lMdYHIduGnGO",
        "outputId": "9123135a-36d5-4500-aa94-da87e2b94390"
      },
      "execution_count": 30,
      "outputs": [
        {
          "output_type": "execute_result",
          "data": {
            "text/plain": [
              "[array([[-2.5568092 ],\n",
              "        [15.336416  ],\n",
              "        [-3.371118  ],\n",
              "        [ 0.04031723],\n",
              "        [ 0.48214516],\n",
              "        [ 1.838835  ],\n",
              "        [-6.165416  ],\n",
              "        [ 0.28172567],\n",
              "        [ 0.20502669],\n",
              "        [-4.463708  ],\n",
              "        [-1.5081608 ],\n",
              "        [17.095695  ],\n",
              "        [-9.627515  ]], dtype=float32), array([15.096241], dtype=float32)]"
            ]
          },
          "metadata": {},
          "execution_count": 30
        }
      ]
    },
    {
      "cell_type": "code",
      "source": [
        ""
      ],
      "metadata": {
        "id": "o-xXpLMtGtf1"
      },
      "execution_count": null,
      "outputs": []
    }
  ]
}